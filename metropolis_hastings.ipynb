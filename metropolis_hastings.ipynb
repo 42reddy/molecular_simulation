{
 "cells": [
  {
   "cell_type": "code",
   "execution_count": 19,
   "id": "25d94813",
   "metadata": {},
   "outputs": [],
   "source": [
    "import numpy as np\n",
    "import matplotlib.pyplot as plt\n",
    "import math\n",
    "from scipy.stats import norm"
   ]
  },
  {
   "cell_type": "code",
   "execution_count": 20,
   "id": "6c6d31d9",
   "metadata": {},
   "outputs": [],
   "source": [
    "N = 250              # number of particles\n",
    "zeta =10\n",
    "M = 3                # number of particles inserted/deleted at each step"
   ]
  },
  {
   "cell_type": "code",
   "execution_count": 21,
   "id": "9927eddb",
   "metadata": {},
   "outputs": [],
   "source": [
    "def g_dist(x,peak_value, peak_loc, std):\n",
    "    return peak_value * norm.pdf(x,peak_loc, std)         # arbitrary distribution "
   ]
  },
  {
   "cell_type": "code",
   "execution_count": 22,
   "id": "0a87311a",
   "metadata": {},
   "outputs": [],
   "source": [
    "x = np.linspace(0, N, N)"
   ]
  },
  {
   "cell_type": "code",
   "execution_count": 23,
   "id": "a734bc13",
   "metadata": {},
   "outputs": [],
   "source": [
    "g_dis = np.zeros((N,N))"
   ]
  },
  {
   "cell_type": "code",
   "execution_count": 24,
   "id": "660fb9d4",
   "metadata": {},
   "outputs": [],
   "source": [
    "for i in range(N):\n",
    "    g_dis[i,:] = g_dist(x,1,i,1)"
   ]
  },
  {
   "cell_type": "code",
   "execution_count": 25,
   "id": "69989871",
   "metadata": {},
   "outputs": [],
   "source": [
    "num = int(1e6)                    # number of timesteps"
   ]
  },
  {
   "cell_type": "code",
   "execution_count": 26,
   "id": "b9f2cea9",
   "metadata": {},
   "outputs": [],
   "source": [
    "kb = 1                            # boltzman constant\n",
    "T = 1                             # temperature\n",
    "dh = 1                            \n",
    "beta =1                            \n",
    "mu = 1                            # chemical potential\n",
    "v =1\n",
    "lam = 1                           # lambda for poissons distribution\n",
    "K= np.linspace(100,500,21)\n",
    "l=np.linspace(0,20,21)"
   ]
  },
  {
   "cell_type": "code",
   "execution_count": 27,
   "id": "b0486f2b",
   "metadata": {},
   "outputs": [
    {
     "data": {
      "text/plain": [
       "array([0., 0., 0., ..., 0., 0., 0.])"
      ]
     },
     "execution_count": 27,
     "metadata": {},
     "output_type": "execute_result"
    }
   ],
   "source": [
    "n= np.zeros(num+1)                # number of particles at each timestep\n",
    "n"
   ]
  },
  {
   "cell_type": "code",
   "execution_count": 28,
   "id": "a5c91b44",
   "metadata": {},
   "outputs": [
    {
     "data": {
      "text/plain": [
       "array([100., 120., 140., 160., 180., 200., 220., 240., 260., 280., 300.,\n",
       "       320., 340., 360., 380., 400., 420., 440., 460., 480., 500.])"
      ]
     },
     "execution_count": 28,
     "metadata": {},
     "output_type": "execute_result"
    }
   ],
   "source": [
    "K"
   ]
  },
  {
   "cell_type": "code",
   "execution_count": 29,
   "id": "69f44f99",
   "metadata": {},
   "outputs": [],
   "source": [
    "\"\"\"takes in number of steps and number of particles to be inserted at each step and inserts and deletes\n",
    " the particles based on acceptance and deletion probabilities\"\"\"\n",
    "\n",
    "\n",
    "\n",
    "\n",
    "\n",
    "def metropolis_scheme(n,num,M):\n",
    "    \n",
    "    for i in range(num):\n",
    "        \n",
    "        a = np.random.uniform(0,1)            # generate a random number from (0,1)\n",
    "        dh = M\n",
    "       \n",
    "        if a < 0.5 or n[i]==0:                # insertion case\n",
    "        \n",
    "        \n",
    "            r = np.random.uniform(0,1)        # generate a random number in (0,1)\n",
    "            \n",
    "            nn = int(n[i])\n",
    "        \n",
    "            if r < np.minimum(1, (zeta**dh)/(math.factorial(nn+dh)/math.factorial(nn))):\n",
    "            \n",
    "                n[i+1:] += dh                 # insert the particle with probability r\n",
    "                \n",
    "                \n",
    "                \n",
    "        elif a >= 0.5 and n[i]>dh:            # deletion case\n",
    "        \n",
    "            \n",
    "        \n",
    "            r = np.random.uniform(0,1)        # generate a random number in (0,1)\n",
    "            \n",
    "            nn= int(n[i])\n",
    "        \n",
    "            if r < np.minimum(1, ((math.factorial(nn)/(math.factorial(nn-dh)))/(zeta**dh))):\n",
    "            \n",
    "                n[i+1:] -= dh                 # delete the particle with probability r\n",
    "        \n",
    "                \n",
    "    \n",
    "    "
   ]
  },
  {
   "cell_type": "code",
   "execution_count": 30,
   "id": "29a49312",
   "metadata": {},
   "outputs": [],
   "source": [
    "metropolis_scheme(n,num-1,M)"
   ]
  },
  {
   "cell_type": "code",
   "execution_count": 31,
   "id": "a9ad3720",
   "metadata": {},
   "outputs": [
    {
     "data": {
      "text/plain": [
       "[<matplotlib.lines.Line2D at 0x14c892f80>]"
      ]
     },
     "execution_count": 31,
     "metadata": {},
     "output_type": "execute_result"
    },
    {
     "data": {
      "image/png": "[encoded data removed]",
      "text/plain": [
       "<Figure size 640x480 with 1 Axes>"
      ]
     },
     "metadata": {},
     "output_type": "display_data"
    }
   ],
   "source": [
    "plt.plot(n)         # total number of particles at each step"
   ]
  },
  {
   "cell_type": "code",
   "execution_count": 50,
   "id": "10dd99c0",
   "metadata": {},
   "outputs": [
    {
     "name": "stdout",
     "output_type": "stream",
     "text": [
      "the average number of particles = 10 and the maximum number of particles = 27\n"
     ]
    }
   ],
   "source": [
    "n_mean = n.mean()\n",
    "n_max = n.max()\n",
    "\n",
    "print(\"the average number of particles =\", int(n_mean), \"and the maximum number of particles =\", int(n_max))"
   ]
  },
  {
   "cell_type": "code",
   "execution_count": 32,
   "id": "a33c9eb4",
   "metadata": {},
   "outputs": [],
   "source": [
    "peq = np.zeros(100)"
   ]
  },
  {
   "cell_type": "code",
   "execution_count": 33,
   "id": "6acdb87f",
   "metadata": {},
   "outputs": [],
   "source": [
    "for i in range(100):\n",
    "    peq[i] = (10**i)*np.exp(-10)/(math.factorial(i))"
   ]
  },
  {
   "cell_type": "code",
   "execution_count": 51,
   "id": "db02522e",
   "metadata": {},
   "outputs": [
    {
     "data": {
      "text/plain": [
       "'the equilibrium probability distribution described by the grand canonical ensemble should approach the poissons distribution'"
      ]
     },
     "execution_count": 51,
     "metadata": {},
     "output_type": "execute_result"
    },
    {
     "data": {
      "image/png": "[encoded data removed]",
      "text/plain": [
       "<Figure size 640x480 with 1 Axes>"
      ]
     },
     "metadata": {},
     "output_type": "display_data"
    }
   ],
   "source": [
    "plt.plot(peq)\n",
    "\n",
    "plt.title('equilibrium distribution P(eq)')\n",
    "\n",
    "\"\"\"the equilibrium probability distribution described by the grand canonical ensemble should approach the poissons distribution\"\"\"       "
   ]
  },
  {
   "cell_type": "code",
   "execution_count": 63,
   "id": "bca64e16",
   "metadata": {},
   "outputs": [
    {
     "data": {
      "text/plain": [
       "Text(0.5, 1.0, 'equilibrium distribution described by metropolis hastings scheme')"
      ]
     },
     "execution_count": 63,
     "metadata": {},
     "output_type": "execute_result"
    },
    {
     "data": {
      "image/png": "[encoded data removed]",
      "text/plain": [
       "<Figure size 640x480 with 1 Axes>"
      ]
     },
     "metadata": {},
     "output_type": "display_data"
    }
   ],
   "source": [
    "plt.hist(n,histtype='step') \n",
    "\n",
    "plt.title('equilibrium distribution described by metropolis hastings scheme')"
   ]
  },
  {
   "cell_type": "markdown",
   "id": "eb5c4897",
   "metadata": {},
   "source": [
    "The probability distribution described by the monte carlo simulation is in accordance with the poissons distribution."
   ]
  },
  {
   "cell_type": "code",
   "execution_count": 52,
   "id": "7744e8e1",
   "metadata": {},
   "outputs": [
    {
     "data": {
      "text/plain": [
       "10.013145027817929"
      ]
     },
     "execution_count": 52,
     "metadata": {},
     "output_type": "execute_result"
    }
   ],
   "source": [
    "np.var(n)"
   ]
  },
  {
   "cell_type": "code",
   "execution_count": 53,
   "id": "460a131d",
   "metadata": {},
   "outputs": [
    {
     "data": {
      "text/plain": [
       "3.164355388988084"
      ]
     },
     "execution_count": 53,
     "metadata": {},
     "output_type": "execute_result"
    }
   ],
   "source": [
    "np.std(n)"
   ]
  }
 ],
 "metadata": {
  "kernelspec": {
   "display_name": "Python 3 (ipykernel)",
   "language": "python",
   "name": "python3"
  },
  "language_info": {
   "codemirror_mode": {
    "name": "ipython",
    "version": 3
   },
   "file_extension": ".py",
   "mimetype": "text/x-python",
   "name": "python",
   "nbconvert_exporter": "python",
   "pygments_lexer": "ipython3",
   "version": "3.10.8"
  }
 },
 "nbformat": 4,
 "nbformat_minor": 5
}
